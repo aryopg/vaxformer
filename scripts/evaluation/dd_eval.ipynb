{
 "cells": [
  {
   "cell_type": "code",
   "execution_count": null,
   "metadata": {},
   "outputs": [],
   "source": [
    "# (Run ddGun.sh before running this script)\n",
    "\n",
    "import numpy as np\n",
    "import glob"
   ]
  },
  {
   "attachments": {},
   "cell_type": "markdown",
   "metadata": {},
   "source": [
    "Import the results of ddgun"
   ]
  },
  {
   "cell_type": "code",
   "execution_count": null,
   "metadata": {},
   "outputs": [],
   "source": [
    "def calculate_score(result):\n",
    "    result = result[1:]\n",
    "    return sum(map(lambda x: float(x.split()[2]),result))"
   ]
  },
  {
   "cell_type": "code",
   "execution_count": null,
   "metadata": {},
   "outputs": [],
   "source": [
    "all_results = []\n",
    "for i in range(1000):\n",
    "    with open(f\"result{i}.txt\") as f:\n",
    "        result = f.readlines()\n",
    "        all_results.append(calculate_score(result))\n",
    "print(\"The mean of all the results is: \", np.mean(all_results))"
   ]
  },
  {
   "attachments": {},
   "cell_type": "markdown",
   "metadata": {},
   "source": [
    "Find the top 10 scoring proteins"
   ]
  },
  {
   "cell_type": "code",
   "execution_count": null,
   "metadata": {},
   "outputs": [],
   "source": [
    "sort = list(enumerate(all_results))\n",
    "sort = sorted(sort, key=lambda tup: tup[1])\n",
    "sort[:-10]\n",
    "print(\"The mean of top ten scoring proteins is\",np.mean(np.sort(all_results)[-10:]),np.std(np.sort(all_results)[-10:])) # Note that DDGun uses the convention that positive value means increased stability"
   ]
  }
 ],
 "metadata": {
  "kernelspec": {
   "display_name": "mlp2",
   "language": "python",
   "name": "python3"
  },
  "language_info": {
   "codemirror_mode": {
    "name": "ipython",
    "version": 3
   },
   "file_extension": ".py",
   "mimetype": "text/x-python",
   "name": "python",
   "nbconvert_exporter": "python",
   "pygments_lexer": "ipython3",
   "version": "3.10.8"
  },
  "orig_nbformat": 4
 },
 "nbformat": 4,
 "nbformat_minor": 2
}
